{
 "cells": [
  {
   "cell_type": "code",
   "execution_count": null,
   "metadata": {},
   "outputs": [],
   "source": [
    "# Course: Certified Overview: Databricks Certified Data Engineer Associate V2 Exam\n",
    "# https://github.com/derar-alhussein/Databricks-Certified-Data-Engineer-Associate"
   ]
  },
  {
   "cell_type": "code",
   "execution_count": 2,
   "metadata": {},
   "outputs": [
    {
     "data": {
      "text/plain": [
       "'\\n 6 months expe\\n - Build ETL pipelines using Apache Spark SQL and Python\\n - Incrementally Process data \\n\\n \\n'"
      ]
     },
     "execution_count": 2,
     "metadata": {},
     "output_type": "execute_result"
    }
   ],
   "source": [
    "# Certification\n",
    "'''\n",
    " 6 months expe\n",
    " - Build ETL pipelines using Apache Spark SQL and Python\n",
    " - Incrementally Process data \n",
    "'''"
   ]
  },
  {
   "cell_type": "code",
   "execution_count": null,
   "metadata": {},
   "outputs": [],
   "source": []
  },
  {
   "cell_type": "code",
   "execution_count": 1,
   "metadata": {},
   "outputs": [
    {
     "data": {
      "text/plain": [
       "'\\n\\n\\n'"
      ]
     },
     "execution_count": 1,
     "metadata": {},
     "output_type": "execute_result"
    }
   ],
   "source": [
    "# Delta lake \n",
    "'''\n",
    "\n",
    "\n",
    "'''"
   ]
  },
  {
   "cell_type": "code",
   "execution_count": 2,
   "metadata": {},
   "outputs": [
    {
     "data": {
      "text/plain": [
       "'\\n - Databases\\n - Tables \\n    * Manage vs external tables \\n    * create and drop managed \\n - Views and CTEs \\n\\n'"
      ]
     },
     "execution_count": 2,
     "metadata": {},
     "output_type": "execute_result"
    }
   ],
   "source": [
    "# ELT with spark SQL and Python : 29%\n",
    "'''\n",
    " - Databases\n",
    " - Tables \n",
    "    * Manage vs external tables \n",
    "    * create and drop managed \n",
    " - Views and CTEs \n",
    "\n",
    "'''"
   ]
  },
  {
   "cell_type": "code",
   "execution_count": 3,
   "metadata": {},
   "outputs": [
    {
     "data": {
      "text/plain": [
       "'\\n - Structured Streaming \\n   * General Concepts \\n - Auto Loader \\n - Multi-Hop Architecture \\n     * Bronze \\n     * Silver and Gold \\n     * Structed Streaming in Multi-hop\\n - Delta Live Tables \\n   \\n'"
      ]
     },
     "execution_count": 3,
     "metadata": {},
     "output_type": "execute_result"
    }
   ],
   "source": [
    "# 3. Incremental Data Processing : 22%\n",
    "'''\n",
    " - Structured Streaming \n",
    "   * General Concepts \n",
    " - Auto Loader \n",
    " - Multi-Hop Architecture \n",
    "     * Bronze \n",
    "     * Silver and Gold \n",
    "     * Structed Streaming in Multi-hop\n",
    " - Delta Live Tables \n",
    "   \n",
    "'''"
   ]
  },
  {
   "cell_type": "code",
   "execution_count": 4,
   "metadata": {},
   "outputs": [
    {
     "data": {
      "text/plain": [
       "'\\n  - Workflows ( Job Scheduling , Task Orchestring , UI)\\n    * Automation \\n    * Task Orchestration\\n    * UI \\n  - Dashboard ( endpoints, scheduling, alerting)\\n    * Databricks SQL Endpoints \\n    * Query Scheduling\\n    * Alerting\\n    * Refreshing\\n \\n    ** SELF ASSESSMENT : \\n    \\n'"
      ]
     },
     "execution_count": 4,
     "metadata": {},
     "output_type": "execute_result"
    }
   ],
   "source": [
    "# 4. Production Pipelines: 16% \n",
    "'''\n",
    "  - Workflows ( Job Scheduling , Task Orchestring , UI)\n",
    "    * Automation \n",
    "    * Task Orchestration\n",
    "    * UI \n",
    "  - Dashboard ( endpoints, scheduling, alerting)\n",
    "    * Databricks SQL Endpoints \n",
    "    * Query Scheduling\n",
    "    * Alerting\n",
    "    * Refreshing\n",
    " \n",
    "    ** SELF ASSESSMENT : \n",
    "    \n",
    "'''"
   ]
  },
  {
   "cell_type": "code",
   "execution_count": 5,
   "metadata": {},
   "outputs": [
    {
     "data": {
      "text/plain": [
       "'\\n  - Unity Catalog \\n  - Entity Permission\\n   ** SELF ASSESSMENT : \\n'"
      ]
     },
     "execution_count": 5,
     "metadata": {},
     "output_type": "execute_result"
    }
   ],
   "source": [
    "# 5. Data Governance : 9%\n",
    "'''\n",
    "  - Unity Catalog \n",
    "  - Entity Permission\n",
    "   ** SELF ASSESSMENT : \n",
    "'''"
   ]
  },
  {
   "cell_type": "code",
   "execution_count": 6,
   "metadata": {},
   "outputs": [],
   "source": [
    "# Practise Exam "
   ]
  },
  {
   "cell_type": "code",
   "execution_count": null,
   "metadata": {},
   "outputs": [],
   "source": [
    "# Certification "
   ]
  }
 ],
 "metadata": {
  "kernelspec": {
   "display_name": "de-venv",
   "language": "python",
   "name": "python3"
  },
  "language_info": {
   "codemirror_mode": {
    "name": "ipython",
    "version": 3
   },
   "file_extension": ".py",
   "mimetype": "text/x-python",
   "name": "python",
   "nbconvert_exporter": "python",
   "pygments_lexer": "ipython3",
   "version": "3.9.12"
  },
  "orig_nbformat": 4
 },
 "nbformat": 4,
 "nbformat_minor": 2
}
