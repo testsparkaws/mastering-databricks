{
 "cells": [
  {
   "cell_type": "code",
   "execution_count": 1,
   "metadata": {},
   "outputs": [],
   "source": [
    "# Section 1: Introduction\n",
    "'''\n",
    " - What is Databricks \n",
    " - LakeHouse Platform \n",
    "    * WEB UI\n",
    "    * Cluster Management \n",
    "    * Workflows \n",
    "    * Notebooks\n",
    " - Data Plane \n",
    "    * Customer CLoud Account \n",
    "\n",
    " - Create Cluster \n",
    " - Notebook Fundamentals\n",
    "   * Workspace create notebook > DEMo Notebook > (Oython/SQL/SCALA/R): Python > DEMO CLuster > Create\n",
    "   lanuage: PYTHON\n",
    "    - print(\"helo world!\")\n",
    "\n",
    "   lanuage: SQL\n",
    "    %sql\n",
    "    - SELECT \"HELLO WORLD\"\n",
    "\n",
    "    Lanague: Magic Markdown\n",
    "    %md \n",
    "    # Titale \n",
    "    ## Title 2\n",
    "    ### Title 3\n",
    "\n",
    "    # Run another notebook\n",
    "    Includes/setup\n",
    "     - print(\"This is setup notebook\")\n",
    "      \n",
    "    %run ./Includes/setups\n",
    "  \n",
    "\n",
    " - Databricks REPO \n",
    "   * \n",
    "\n",
    "   Section 1: Introduction\n",
    " - Course Overview \n",
    " - What is Databricks \n",
    " - Exploring Workspace \n",
    " - Creating Cluster \n",
    " \n",
    " - Notebooks Fundamentals \n",
    " - Databricks repos \n",
    "\n",
    "'''\n",
    "\n",
    "# Databricks repos \n",
    "'''\n",
    " - create token in gitub \n",
    " - update token in databricks \n",
    " - create repo in github\n",
    " - sync repo in databricks \n",
    " - create dev branch in databricks \n",
    " - push the changes to github\n",
    " - merge the dev branch .\n",
    "'''"
   ]
  },
  {
   "cell_type": "code",
   "execution_count": 1,
   "metadata": {},
   "outputs": [],
   "source": [
    "# Section 2: Data bricket Lakehouse Platform"
   ]
  },
  {
   "cell_type": "code",
   "execution_count": null,
   "metadata": {},
   "outputs": [],
   "source": [
    "# Exam Platform Lnk \n",
    "https://www.webassessor.com/databricks\n"
   ]
  }
 ],
 "metadata": {
  "kernelspec": {
   "display_name": "de-venv",
   "language": "python",
   "name": "python3"
  },
  "language_info": {
   "codemirror_mode": {
    "name": "ipython",
    "version": 3
   },
   "file_extension": ".py",
   "mimetype": "text/x-python",
   "name": "python",
   "nbconvert_exporter": "python",
   "pygments_lexer": "ipython3",
   "version": "3.9.12"
  },
  "orig_nbformat": 4
 },
 "nbformat": 4,
 "nbformat_minor": 2
}
