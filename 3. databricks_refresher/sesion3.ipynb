{
 "cells": [
  {
   "cell_type": "code",
   "execution_count": 1,
   "metadata": {},
   "outputs": [
    {
     "data": {
      "text/plain": [
       "'\\n - Delta Lake Architecture Overview\\n - Introduction to Delta Lake \\n    * Create a Delta Table\\n    * Describe Table\\n    * Create partition on table\\n    * drop table\\n    * Handling streaming data\\n    * Batch Upsert\\n    * Display table history\\n    * optimize a table\\n    * Zorder clause\\n    * Vaccum command\\n'"
      ]
     },
     "execution_count": 1,
     "metadata": {},
     "output_type": "execute_result"
    }
   ],
   "source": [
    "# Agenda \n",
    "'''\n",
    " - Delta Lake Architecture Overview\n",
    " - Introduction to Delta Lake \n",
    "    * Create a Delta Table\n",
    "    * Describe Table\n",
    "    * Create partition on table\n",
    "    * drop table\n",
    "    * Handling streaming data\n",
    "    * Batch Upsert\n",
    "    * Display table history\n",
    "    * optimize a table\n",
    "    * Zorder clause\n",
    "    * Vaccum command\n",
    "'''"
   ]
  },
  {
   "cell_type": "code",
   "execution_count": 2,
   "metadata": {},
   "outputs": [
    {
     "data": {
      "text/plain": [
       "'\\n  *  \\n'"
      ]
     },
     "execution_count": 2,
     "metadata": {},
     "output_type": "execute_result"
    }
   ],
   "source": [
    "# Delta Lake Architecure Overview \n",
    "# Workspace Settings\n",
    "'''\n",
    "  *  \n",
    "'''"
   ]
  },
  {
   "cell_type": "code",
   "execution_count": 3,
   "metadata": {},
   "outputs": [
    {
     "data": {
      "text/plain": [
       "'\\n\\n'"
      ]
     },
     "execution_count": 3,
     "metadata": {},
     "output_type": "execute_result"
    }
   ],
   "source": [
    "# Introduction to Delta Lake \n",
    "'''\n",
    "\n",
    "'''"
   ]
  },
  {
   "cell_type": "code",
   "execution_count": 4,
   "metadata": {},
   "outputs": [
    {
     "data": {
      "text/plain": [
       "'\\n create table customer(\\n   cust_id INT,\\n   state VARCHAR()\\n )\\n describe table customer\\n'"
      ]
     },
     "execution_count": 4,
     "metadata": {},
     "output_type": "execute_result"
    }
   ],
   "source": [
    "# Descibe Table \n",
    "'''\n",
    " create table customer(\n",
    "   cust_id INT,\n",
    "   state VARCHAR()\n",
    " )\n",
    " describe table customer\n",
    "'''"
   ]
  },
  {
   "cell_type": "code",
   "execution_count": 5,
   "metadata": {},
   "outputs": [
    {
     "data": {
      "text/plain": [
       "'\\n%sql \\n describe table alerts.message\\n describe table bronze_adobe_dev.adbobe\\n'"
      ]
     },
     "execution_count": 5,
     "metadata": {},
     "output_type": "execute_result"
    }
   ],
   "source": [
    "# Create Partition on Table \n",
    "'''\n",
    " * PARTITIONED BY(col_Name1, col_name2,...)\n",
    "\n",
    " '''\n",
    "\n",
    "# \n",
    "'''\n",
    "%sql \n",
    " describe table alerts.message\n",
    " describe table bronze_adobe_dev.adbobe\n",
    "'''"
   ]
  },
  {
   "cell_type": "code",
   "execution_count": 6,
   "metadata": {},
   "outputs": [
    {
     "data": {
      "text/plain": [
       "'\\n DROP TABLE [IF EXISTS] [db_name]table_name\\n'"
      ]
     },
     "execution_count": 6,
     "metadata": {},
     "output_type": "execute_result"
    }
   ],
   "source": [
    "# Drop Table \n",
    "'''\n",
    " DROP TABLE [IF EXISTS] [db_name]table_name\n",
    "'''"
   ]
  },
  {
   "cell_type": "code",
   "execution_count": 7,
   "metadata": {},
   "outputs": [
    {
     "data": {
      "text/plain": [
       "'\\n'"
      ]
     },
     "execution_count": 7,
     "metadata": {},
     "output_type": "execute_result"
    }
   ],
   "source": [
    "# Handle Streaming Data \n",
    "'''\n",
    " - Workflows : to run streaming jobs \n",
    "  The Output Can be COnfigured in Different mode\n",
    "    * Complete Mode\n",
    "    * Append Mode\n",
    "    * Update Mode\n",
    "'''"
   ]
  },
  {
   "cell_type": "code",
   "execution_count": 8,
   "metadata": {},
   "outputs": [],
   "source": [
    "# INnitialize the stream"
   ]
  },
  {
   "cell_type": "code",
   "execution_count": 9,
   "metadata": {},
   "outputs": [
    {
     "data": {
      "text/plain": [
       "'\\n - MERGE SQL Operation\\n \\n'"
      ]
     },
     "execution_count": 9,
     "metadata": {},
     "output_type": "execute_result"
    }
   ],
   "source": [
    "# Batch Upsert\n",
    "'''\n",
    " - MERGE SQL Operation\n",
    " \n",
    "'''"
   ]
  },
  {
   "cell_type": "code",
   "execution_count": 10,
   "metadata": {},
   "outputs": [
    {
     "data": {
      "text/plain": [
       "'\\n describe history <table_name>\\n'"
      ]
     },
     "execution_count": 10,
     "metadata": {},
     "output_type": "execute_result"
    }
   ],
   "source": [
    "# Display Table History\n",
    "'''\n",
    " describe history <table_name>\n",
    "'''"
   ]
  },
  {
   "cell_type": "code",
   "execution_count": 11,
   "metadata": {},
   "outputs": [
    {
     "data": {
      "text/plain": [
       "\"\\n - Optimize events;\\n - OPTIMIZE events WHERE date >= '2017-01-01';\\n - Optimize events\\n WHERE date>= current_timestamp() - INTERVAL 1 DAY \\n ZORDER BY (eventType)\\n\\n\""
      ]
     },
     "execution_count": 11,
     "metadata": {},
     "output_type": "execute_result"
    }
   ],
   "source": [
    "# OPtimize a tbale ; Zorder Clause\n",
    "'''\n",
    " spark.databricks.delta.optimize.maxFileSize\n",
    " default value is 1073741824 , 1Gb \n",
    " specify 104857600 sets the file to 100 MB\n",
    "\n",
    "'''\n",
    "\n",
    "#\n",
    "'''\n",
    " - Optimize events;\n",
    " - OPTIMIZE events WHERE date >= '2017-01-01';\n",
    " - Optimize events\n",
    " WHERE date>= current_timestamp() - INTERVAL 1 DAY \n",
    " ZORDER BY (eventType)\n",
    "\n",
    "'''"
   ]
  },
  {
   "cell_type": "code",
   "execution_count": null,
   "metadata": {},
   "outputs": [],
   "source": [
    "# Vacuum Command\n",
    "'''\n",
    "* \n",
    "* \n",
    "* \n",
    "$ VACUUM table_name [RETAIN num HOURS] [DRU RUN]\n",
    "'''"
   ]
  }
 ],
 "metadata": {
  "kernelspec": {
   "display_name": "de-venv3.9",
   "language": "python",
   "name": "python3"
  },
  "language_info": {
   "codemirror_mode": {
    "name": "ipython",
    "version": 3
   },
   "file_extension": ".py",
   "mimetype": "text/x-python",
   "name": "python",
   "nbconvert_exporter": "python",
   "pygments_lexer": "ipython3",
   "version": "3.9.12"
  },
  "orig_nbformat": 4
 },
 "nbformat": 4,
 "nbformat_minor": 2
}
