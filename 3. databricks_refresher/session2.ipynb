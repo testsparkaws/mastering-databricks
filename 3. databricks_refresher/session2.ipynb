{
 "cells": [
  {
   "cell_type": "code",
   "execution_count": 1,
   "metadata": {},
   "outputs": [
    {
     "data": {
      "text/plain": [
       "'\\n# Databricks Components contd.\\n * Settings\\n * Repos\\n * Delta Live Tables\\n * Notebook Workflows\\n * Traverse within workspaces\\n * Data(Delta Tables an DBFS)\\n * Metastores\\n\\n# Databricks SQL Analytics\\n * SQL Editor\\n * SQL Endpoints\\n\\n# Databricks connectivity with BI\\n'"
      ]
     },
     "execution_count": 1,
     "metadata": {},
     "output_type": "execute_result"
    }
   ],
   "source": [
    "# Agenda \n",
    "'''\n",
    "# Databricks Components contd.\n",
    " * Settings\n",
    " * Repos\n",
    " * Delta Live Tables\n",
    " * Notebook Workflows\n",
    " * Traverse within workspaces\n",
    " * Data(Delta Tables an DBFS)\n",
    " * Metastores\n",
    "\n",
    "# Databricks SQL Analytics\n",
    " * SQL Editor\n",
    " * SQL Endpoints\n",
    "\n",
    "# Databricks connectivity with BI\n",
    "'''"
   ]
  },
  {
   "cell_type": "code",
   "execution_count": 2,
   "metadata": {},
   "outputs": [
    {
     "data": {
      "text/plain": [
       "'\\n # User Settings\\n # Admin Console\\n # Manage Account\\n\\n #  user Settings\\n  - Password\\n  - Access Tokens\\n  - Git Integration\\n  - Notebook Settings\\n  - Email \\n  - \\n'"
      ]
     },
     "execution_count": 2,
     "metadata": {},
     "output_type": "execute_result"
    }
   ],
   "source": [
    "# Settings\n",
    "'''\n",
    " # User Settings\n",
    " # Admin Console\n",
    " # Manage Account\n",
    "\n",
    " #  user Settings\n",
    "  - Password\n",
    "  - Access Tokens\n",
    "  - Git Integration\n",
    "  - Notebook Settings\n",
    "  - Email \n",
    "  - \n",
    "'''\n",
    "\n",
    "# Workspace : Admin Console "
   ]
  },
  {
   "cell_type": "code",
   "execution_count": 3,
   "metadata": {},
   "outputs": [
    {
     "data": {
      "text/plain": [
       "'\\n'"
      ]
     },
     "execution_count": 3,
     "metadata": {},
     "output_type": "execute_result"
    }
   ],
   "source": [
    "# Databricks Compoenets: REPOS\n",
    "'''\n",
    "'''"
   ]
  },
  {
   "cell_type": "code",
   "execution_count": 4,
   "metadata": {},
   "outputs": [],
   "source": [
    "# Saturday / SUNDAY : Complete learning Databricks & Practise: \n",
    "   # Create Enterprise Account , Test iT learn it \n",
    "   # Practise all THESE\n",
    "# Before working i need indepth knowlege of Databricks tools  \n",
    "# Certification\n",
    "# https://docs.databricks.com/en/index.html"
   ]
  },
  {
   "cell_type": "code",
   "execution_count": 5,
   "metadata": {},
   "outputs": [
    {
     "data": {
      "text/plain": [
       "'\\n - check the video again , to create pipeline \\n'"
      ]
     },
     "execution_count": 5,
     "metadata": {},
     "output_type": "execute_result"
    }
   ],
   "source": [
    "# Delta Live Tables( DLT)\n",
    "'''\n",
    " - check the video again , to create pipeline \n",
    "'''"
   ]
  },
  {
   "cell_type": "code",
   "execution_count": 6,
   "metadata": {},
   "outputs": [],
   "source": [
    "# Data - database & table\n",
    "'''\n",
    "'''"
   ]
  },
  {
   "cell_type": "code",
   "execution_count": 7,
   "metadata": {},
   "outputs": [
    {
     "data": {
      "text/plain": [
       "\"\\n%sql\\ncreate table bronze.adobe(\\n id int,\\n name string\\n);\\ninsert into bronze.adobe values(1, 'revathi');\\n\""
      ]
     },
     "execution_count": 7,
     "metadata": {},
     "output_type": "execute_result"
    }
   ],
   "source": [
    "# Data - database & table contd..\n",
    "'''\n",
    " - Managed Table \n",
    " - Unmanaged table \n",
    "'''\n",
    "\n",
    "# \n",
    "'''\n",
    "%sql\n",
    "create table bronze.adobe(\n",
    " id int,\n",
    " name string\n",
    ");\n",
    "insert into bronze.adobe values(1, 'revathi');\n",
    "'''"
   ]
  },
  {
   "cell_type": "code",
   "execution_count": 8,
   "metadata": {},
   "outputs": [],
   "source": [
    "# Data - DBFS"
   ]
  },
  {
   "cell_type": "code",
   "execution_count": 9,
   "metadata": {},
   "outputs": [
    {
     "data": {
      "text/plain": [
       "'\\n - /FileStore\\n - /databricks-results\\n - /databricks/init\\n - /user/hive/warehouse\\n'"
      ]
     },
     "execution_count": 9,
     "metadata": {},
     "output_type": "execute_result"
    }
   ],
   "source": [
    "# Data - DBFS root\n",
    "'''\n",
    " - /FileStore\n",
    " - /databricks-results\n",
    " - /databricks/init\n",
    " - /user/hive/warehouse\n",
    "'''"
   ]
  },
  {
   "cell_type": "code",
   "execution_count": 10,
   "metadata": {},
   "outputs": [
    {
     "data": {
      "text/plain": [
       "'\\n * /FileStores/jars\\n * /FileStores/tables\\n * /FileStores/plots\\n * /FIleStores/Import-stage\\n'"
      ]
     },
     "execution_count": 10,
     "metadata": {},
     "output_type": "execute_result"
    }
   ],
   "source": [
    "# Data - FileStore\n",
    "'''\n",
    " * /FileStores/jars\n",
    " * /FileStores/tables\n",
    " * /FileStores/plots\n",
    " * /FIleStores/Import-stage\n",
    "'''"
   ]
  },
  {
   "cell_type": "code",
   "execution_count": 11,
   "metadata": {},
   "outputs": [
    {
     "data": {
      "text/plain": [
       "'\\n\\n'"
      ]
     },
     "execution_count": 11,
     "metadata": {},
     "output_type": "execute_result"
    }
   ],
   "source": [
    "# Data - Metastores\n",
    "'''\n",
    "\n",
    "'''"
   ]
  },
  {
   "cell_type": "code",
   "execution_count": 12,
   "metadata": {},
   "outputs": [
    {
     "data": {
      "text/plain": [
       "'\\n - no need to write %sql , just go to SQL WIndow to \\n'"
      ]
     },
     "execution_count": 12,
     "metadata": {},
     "output_type": "execute_result"
    }
   ],
   "source": [
    "# Databricks SQL Analytics\n",
    "'''\n",
    " - no need to write %sql , just go to SQL WIndow to \n",
    "'''"
   ]
  },
  {
   "cell_type": "code",
   "execution_count": null,
   "metadata": {},
   "outputs": [],
   "source": [
    "# Connect with POWER BI"
   ]
  }
 ],
 "metadata": {
  "kernelspec": {
   "display_name": "de-venv3.9",
   "language": "python",
   "name": "python3"
  },
  "language_info": {
   "codemirror_mode": {
    "name": "ipython",
    "version": 3
   },
   "file_extension": ".py",
   "mimetype": "text/x-python",
   "name": "python",
   "nbconvert_exporter": "python",
   "pygments_lexer": "ipython3",
   "version": "3.9.12"
  },
  "orig_nbformat": 4
 },
 "nbformat": 4,
 "nbformat_minor": 2
}
