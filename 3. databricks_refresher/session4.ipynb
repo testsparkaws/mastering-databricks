{
 "cells": [
  {
   "cell_type": "code",
   "execution_count": null,
   "metadata": {},
   "outputs": [],
   "source": [
    "# Section 4 : \n",
    "'''\n",
    "- Handling Secutiry in Databricks \n",
    "- Security Components in Databricks\n",
    "  * Token Management\n",
    "  \n",
    "'''"
   ]
  }
 ],
 "metadata": {
  "language_info": {
   "name": "python"
  },
  "orig_nbformat": 4
 },
 "nbformat": 4,
 "nbformat_minor": 2
}
