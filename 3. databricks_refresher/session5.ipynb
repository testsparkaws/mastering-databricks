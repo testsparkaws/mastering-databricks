{
 "cells": [
  {
   "cell_type": "code",
   "execution_count": null,
   "metadata": {},
   "outputs": [],
   "source": [
    "# Databricks session 5\n",
    "'''\n",
    " - Logging in Databricks\n",
    " - Send Alerts in Databricks\n",
    " - Databricks on Cloud Provides ( AWS, AZURE and GCP )\n",
    "'''"
   ]
  }
 ],
 "metadata": {
  "language_info": {
   "name": "python"
  },
  "orig_nbformat": 4
 },
 "nbformat": 4,
 "nbformat_minor": 2
}
