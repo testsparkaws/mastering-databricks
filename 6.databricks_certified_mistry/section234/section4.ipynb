{
 "cells": [
  {
   "cell_type": "code",
   "execution_count": 1,
   "metadata": {},
   "outputs": [],
   "source": [
    "# Databricks Notebook Introduction\n",
    "'''\n",
    " - create Notebook \n",
    " - NEw OR WORKSPACE > CREATE > CREATE NOTEBOOK \n",
    " - NAME: Notebook INtou\n",
    " - Language: Python\n",
    " - Cluster: Compute_Cluster_01\n",
    " - Create \n",
    "'''\n",
    "\n",
    "# CMD1\n",
    "'''\n",
    " messsage = \"Hello Databricks Notenook\"\n",
    "'''\n",
    "\n",
    "# CMD2\n",
    "'''\n",
    " print(message)\n",
    "'''\n",
    "\n",
    "# Schedule \n",
    "# Share \n",
    "\n",
    "# CMD \n",
    "'''\n",
    "%sql \n",
    "SELECT \"databricks\"\n",
    "'''\n"
   ]
  },
  {
   "cell_type": "code",
   "execution_count": 2,
   "metadata": {},
   "outputs": [
    {
     "data": {
      "text/plain": [
       "'\\n%scala \\nval msg = \"databrikcs magic command\"\\nprint(msg)\\n'"
      ]
     },
     "execution_count": 2,
     "metadata": {},
     "output_type": "execute_result"
    }
   ],
   "source": [
    "# Magic Commands \n",
    "'''\n",
    "%scala \n",
    "val msg = \"databrikcs magic command\"\n",
    "print(msg)\n",
    "'''\n",
    "\n",
    "# fs :File System \n",
    "'''\n",
    "%fs\n",
    "ls \n",
    "'''"
   ]
  },
  {
   "cell_type": "code",
   "execution_count": null,
   "metadata": {},
   "outputs": [],
   "source": [
    "# CMD \n",
    "'''\n",
    "%sh \n",
    "ps # all the process being appeared\n",
    "'''"
   ]
  }
 ],
 "metadata": {
  "kernelspec": {
   "display_name": "de-venv",
   "language": "python",
   "name": "python3"
  },
  "language_info": {
   "codemirror_mode": {
    "name": "ipython",
    "version": 3
   },
   "file_extension": ".py",
   "mimetype": "text/x-python",
   "name": "python",
   "nbconvert_exporter": "python",
   "pygments_lexer": "ipython3",
   "version": "3.7.3"
  },
  "orig_nbformat": 4
 },
 "nbformat": 4,
 "nbformat_minor": 2
}
