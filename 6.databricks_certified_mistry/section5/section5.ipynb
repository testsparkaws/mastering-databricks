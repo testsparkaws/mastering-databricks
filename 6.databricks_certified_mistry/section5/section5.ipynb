{
 "cells": [
  {
   "cell_type": "code",
   "execution_count": 1,
   "metadata": {},
   "outputs": [
    {
     "data": {
      "text/plain": [
       "'\\n'"
      ]
     },
     "execution_count": 1,
     "metadata": {},
     "output_type": "execute_result"
    }
   ],
   "source": [
    "# Section 5: Databricks Lakehouse Platform: DElta Lake  \n",
    "'''\n",
    "'''"
   ]
  },
  {
   "cell_type": "code",
   "execution_count": 2,
   "metadata": {},
   "outputs": [],
   "source": [
    "# Lab: Delta Lake Table Part 1 \n",
    "'''\n",
    " - Delta Lake Tables - SQL, Default Language : SQL , Clsuer: COmpute Cluster \n",
    " - User > ADmin Console > ADvance > DBFS File Browser : Enable \n",
    " - Data : No table right now \n",
    "\n",
    "\n",
    " create table employee(\n",
    " empid INT,\n",
    " name STRING,\n",
    " title STRING,\n",
    " salary double\n",
    " )\n",
    "\n",
    " # 4 Jobs ran \n",
    "'''\n",
    "\n",
    "# CMD 2\n",
    "'''\n",
    " - DATA > Catalog > hive_metastore > default > employee\n",
    "'''\n",
    "\n",
    "# CMD 3 \n",
    "'''\n",
    " INSERT INTO employee\n",
    " VALUES \n",
    "  (1,\"EMILY\", \"Manager\", 90000.00),\n",
    "  (2,\"JOHN\", \"SalesMan\", 90000.00),\n",
    "  (3,\"VINNY\", \"BUsiness Analyts\", 90000.00),\n",
    "  (4,\"TOM\", \"Manager\", 90000.00),\n",
    "  (5,\"EMMA\", \"Manager\", 90000.00),\n",
    "  (6,\"JAMES\", \"Manager\", 90000.00)\n",
    "\n",
    "'''\n",
    "# Data Table \n",
    "'''\n",
    "    - Check Details \n",
    "    - Check History \n",
    "'''\n",
    "\n",
    "#  CMD \n",
    "'''\n",
    " SELECT * FROM EMPLOYEE\n",
    "'''"
   ]
  },
  {
   "cell_type": "code",
   "execution_count": 5,
   "metadata": {},
   "outputs": [],
   "source": [
    "# Lab: Delta Lake Table Part 2\n",
    "'''\n",
    " DESCRIBE DETAIL employee\n",
    "'''\n",
    "# CMD \n",
    "'''\n",
    "%fs 'dbfs:/user/hive/warehouse/employee'\n",
    "%fs 'dbfs:/user/hive/warehouse/employee/_delta_log/'\n",
    "'''"
   ]
  },
  {
   "cell_type": "code",
   "execution_count": 6,
   "metadata": {},
   "outputs": [],
   "source": [
    "# Lab: Delta Lake Advance Part 1"
   ]
  },
  {
   "cell_type": "code",
   "execution_count": 7,
   "metadata": {},
   "outputs": [],
   "source": [
    "# Lab: Delta Lake Advance Part 2"
   ]
  },
  {
   "cell_type": "code",
   "execution_count": 8,
   "metadata": {},
   "outputs": [],
   "source": [
    "# Data Objects in Databricks Lakehouse"
   ]
  },
  {
   "cell_type": "code",
   "execution_count": null,
   "metadata": {},
   "outputs": [],
   "source": [
    "# "
   ]
  }
 ],
 "metadata": {
  "kernelspec": {
   "display_name": "de-venv",
   "language": "python",
   "name": "python3"
  },
  "language_info": {
   "codemirror_mode": {
    "name": "ipython",
    "version": 3
   },
   "file_extension": ".py",
   "mimetype": "text/x-python",
   "name": "python",
   "nbconvert_exporter": "python",
   "pygments_lexer": "ipython3",
   "version": "3.7.3"
  },
  "orig_nbformat": 4
 },
 "nbformat": 4,
 "nbformat_minor": 2
}
