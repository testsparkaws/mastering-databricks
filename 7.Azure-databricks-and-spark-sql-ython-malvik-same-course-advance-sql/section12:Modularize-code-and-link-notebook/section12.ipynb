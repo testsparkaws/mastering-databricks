{
 "cells": [
  {
   "cell_type": "code",
   "execution_count": 1,
   "metadata": {},
   "outputs": [],
   "source": [
    "# Running a notebook from another notebook"
   ]
  },
  {
   "cell_type": "code",
   "execution_count": null,
   "metadata": {},
   "outputs": [],
   "source": [
    "# Master notebook \n",
    "'''\n",
    " dbutils.help()\n",
    " dbutils.notebook.help()\n",
    "'''\n",
    "\n",
    "# Master Notebook\n",
    "'''\n",
    " dbutils.notebook.run('Worker Notebook', 60)\n",
    " dbutils.notebook.run('test',60)\n",
    " # copy file path \n",
    " try:\n",
    "   dbutils.notebook.run('/workspace/test',60)\n",
    "   \n",
    "'''\n",
    "\n",
    "# Worker Notebook \n",
    "'''\n",
    " print(\" This is worker Notebook \")\n",
    " dbutils.notebook.exit(\"Worker Notebook Executed Successfully\")\n",
    "'''\n",
    "\n",
    "# /workspace/test\n",
    "'''\n",
    "print(\"test Notebook\")\n",
    "prints(\"test Notebook\")\n",
    "dbutils.notebook.entry_point.getDBUtils().notebook().getContext().notebookPath.get()\n",
    "\n",
    "'''"
   ]
  }
 ],
 "metadata": {
  "kernelspec": {
   "display_name": "de-venv1",
   "language": "python",
   "name": "python3"
  },
  "language_info": {
   "codemirror_mode": {
    "name": "ipython",
    "version": 3
   },
   "file_extension": ".py",
   "mimetype": "text/x-python",
   "name": "python",
   "nbconvert_exporter": "python",
   "pygments_lexer": "ipython3",
   "version": "3.9.12"
  }
 },
 "nbformat": 4,
 "nbformat_minor": 2
}
